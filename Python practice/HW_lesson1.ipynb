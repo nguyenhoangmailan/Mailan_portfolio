{
 "cells": [
  {
   "attachments": {},
   "cell_type": "markdown",
   "metadata": {},
   "source": [
    "1. Exercise 1:\n",
    "A company contains several types of employee: worker, engineer, internship.\n",
    "\n",
    "Each employee has properties: name, age, gender and address.\n",
    "Each worker has property: level.\n",
    "Each engineer has property: specialization.\n",
    "Each internship has properties: score and university.\n",
    "Please build several classes: Employee,Worker, Engineer and Internship.\n",
    " \n",
    "2. Exercise 2:\n",
    "From classes from Exercise 1, please build a class: EmployeeManager which contains several methods:\n",
    "\n",
    "Method add: Add a new employee.\n",
    "Method save: Save employee's information to .csv file.\n",
    "Method search: Search an employee by name, or type.\n",
    "Method delete: Delete an employee by name."
   ]
  },
  {
   "attachments": {},
   "cell_type": "markdown",
   "metadata": {},
   "source": [
    "CLASS EMPLOYEE"
   ]
  },
  {
   "cell_type": "code",
   "execution_count": 12,
   "metadata": {},
   "outputs": [
    {
     "data": {
      "text/plain": [
       "<__main__.Employee at 0x2192d35e2b0>"
      ]
     },
     "execution_count": 12,
     "metadata": {},
     "output_type": "execute_result"
    }
   ],
   "source": [
    "class Employee:\n",
    "    def __init__(self, name, age, gender, address):\n",
    "        self.name = name\n",
    "        self.age = age\n",
    "        self.gender = gender\n",
    "        self.address = address\n",
    "       \n",
    "    def __str__(self):\n",
    "        return f\"{self.name}({self.age}, {self.gender}, {self.address})\"\n",
    "\n",
    "Employee(\"Lan\", \"20\", \"Female\", \"Hanoi\")\n"
   ]
  },
  {
   "attachments": {},
   "cell_type": "markdown",
   "metadata": {},
   "source": [
    "CLASS WORKER"
   ]
  },
  {
   "cell_type": "code",
   "execution_count": 13,
   "metadata": {},
   "outputs": [],
   "source": [
    "class Worker(Employee):   \n",
    "    def __init__(self,name,age, gender, address, level):\n",
    "        super().__init__(name,age, gender, address )\n",
    "        self.level = level"
   ]
  },
  {
   "cell_type": "code",
   "execution_count": 18,
   "metadata": {},
   "outputs": [],
   "source": [
    "worker_Mai = Worker(\n",
    "    name = 'Mai', \n",
    "    age = 24, gender = 'Female', \n",
    "    address= 'Hanoi', \n",
    "    level = 3)"
   ]
  },
  {
   "attachments": {},
   "cell_type": "markdown",
   "metadata": {},
   "source": [
    "CLASS ENGINEER"
   ]
  },
  {
   "cell_type": "code",
   "execution_count": 15,
   "metadata": {},
   "outputs": [],
   "source": [
    "class Engineer(Employee):\n",
    "    def __init__(self, name, age, gender, address, specialization):\n",
    "        super().__init__(name, age, gender, address)\n",
    "\n",
    "        self.specialization = specialization"
   ]
  },
  {
   "attachments": {},
   "cell_type": "markdown",
   "metadata": {},
   "source": [
    "CLASS INTERNSHIP"
   ]
  },
  {
   "cell_type": "code",
   "execution_count": 16,
   "metadata": {},
   "outputs": [],
   "source": [
    "class Internship(Employee):\n",
    "    def __init__(self, name, age, gender, address, score, university):\n",
    "        super().__init__(name, age, gender, address)\n",
    "\n",
    "        self.score = score\n",
    "        self.university = university"
   ]
  },
  {
   "cell_type": "code",
   "execution_count": 19,
   "metadata": {},
   "outputs": [
    {
     "data": {
      "text/plain": [
       "{'name': 'Mai', 'age': 24, 'gender': 'Female', 'address': 'Hanoi', 'level': 3}"
      ]
     },
     "execution_count": 19,
     "metadata": {},
     "output_type": "execute_result"
    }
   ],
   "source": [
    "worker_Mai.__dict__"
   ]
  },
  {
   "cell_type": "code",
   "execution_count": 20,
   "metadata": {},
   "outputs": [
    {
     "data": {
      "text/plain": [
       "<__main__.Worker at 0x2192d155f40>"
      ]
     },
     "execution_count": 20,
     "metadata": {},
     "output_type": "execute_result"
    }
   ],
   "source": [
    "worker_Mai"
   ]
  },
  {
   "cell_type": "code",
   "execution_count": 22,
   "metadata": {},
   "outputs": [
    {
     "data": {
      "text/plain": [
       "'Mai'"
      ]
     },
     "execution_count": 22,
     "metadata": {},
     "output_type": "execute_result"
    }
   ],
   "source": [
    "worker_Mai.name"
   ]
  },
  {
   "cell_type": "code",
   "execution_count": 23,
   "metadata": {},
   "outputs": [],
   "source": [
    "engineer_Lan = Engineer(\n",
    "    name = 'Lan',\n",
    "    age = 20,\n",
    "    gender = 'Female',\n",
    "    address = 'Toronto',\n",
    "    specialization= 'Financial analyst'\n",
    ")"
   ]
  },
  {
   "cell_type": "code",
   "execution_count": 24,
   "metadata": {},
   "outputs": [
    {
     "data": {
      "text/plain": [
       "<__main__.Engineer at 0x2192d2af4f0>"
      ]
     },
     "execution_count": 24,
     "metadata": {},
     "output_type": "execute_result"
    }
   ],
   "source": [
    "engineer_Lan"
   ]
  },
  {
   "cell_type": "code",
   "execution_count": 26,
   "metadata": {},
   "outputs": [],
   "source": [
    "internship_Linh = Internship(\n",
    "    name = 'Linh',\n",
    "    age = 18,\n",
    "    gender = 'Male',\n",
    "    address = 'NYC',\n",
    "    score = 4,\n",
    "    university = 'NYU'\n",
    ")"
   ]
  },
  {
   "cell_type": "code",
   "execution_count": 27,
   "metadata": {},
   "outputs": [
    {
     "data": {
      "text/plain": [
       "<__main__.Internship at 0x2192d34cb20>"
      ]
     },
     "execution_count": 27,
     "metadata": {},
     "output_type": "execute_result"
    }
   ],
   "source": [
    "internship_Linh"
   ]
  },
  {
   "attachments": {},
   "cell_type": "markdown",
   "metadata": {},
   "source": [
    "ADD EMPLOYEE MANAGER"
   ]
  },
  {
   "cell_type": "code",
   "execution_count": 28,
   "metadata": {},
   "outputs": [],
   "source": [
    "import pandas as pd\n",
    "import os"
   ]
  },
  {
   "cell_type": "code",
   "execution_count": 31,
   "metadata": {},
   "outputs": [],
   "source": [
    "class EmployeeManager:\n",
    "    \n",
    "    def __init__(self, csv_path):\n",
    "        self.csv_path = csv_path\n",
    "    \n",
    "    def add(\n",
    "        self,\n",
    "        name,\n",
    "        age,\n",
    "        gender,\n",
    "        address,\n",
    "        level=None,\n",
    "        specialization=None,\n",
    "        score=None,\n",
    "        university=None):\n",
    "        \n",
    "        if level is not None:\n",
    "            employee = Worker(\n",
    "                name=name,\n",
    "                age=age,\n",
    "                gender=gender,\n",
    "                address=address,\n",
    "                level=level\n",
    "            )\n",
    "        elif specialization is not None:\n",
    "            employee = Engineer(\n",
    "                name=name,\n",
    "                age=age,\n",
    "                gender=gender,\n",
    "                address=address,\n",
    "                specialization=specialization\n",
    "            )\n",
    "        elif score is not None and university is not None:\n",
    "            employee = Internship(\n",
    "                name=name,\n",
    "                age=age,\n",
    "                gender=gender,\n",
    "                address=address,\n",
    "                score=score,\n",
    "                university=university\n",
    "            )\n",
    "        else:\n",
    "            print('Fail to add new employee')\n",
    "            return None\n",
    "\n",
    "        self.save(employee)\n",
    "        return employee\n",
    "#os.path: use for ?\n",
    "    def save(self, employee):\n",
    "        if os.path.exists(self.csv_path):\n",
    "            df = pd.read_csv(self.csv_path)\n",
    "        else:\n",
    "            df = pd.DataFrame()\n",
    "\n",
    "        if 'level' in employee.__dict__.keys(): #__dict__ contains the data stored in the program's memory for this specific object.\n",
    "            employee_type = 'worker'\n",
    "            level = employee.level\n",
    "            specialization = 'None'\n",
    "            score = 'None'\n",
    "            university = 'None'\n",
    "\n",
    "        elif 'specialization' in employee.__dict__.keys():\n",
    "            employee_type = 'engineer'\n",
    "            level = 'None'\n",
    "            specialization = employee.specialization\n",
    "            score = 'None'\n",
    "            university = 'None'\n",
    "\n",
    "        elif 'score' in employee.__dict__.keys() and \\\n",
    "        'university' in employee.__dict__.keys():\n",
    "            employee_type = 'internship'\n",
    "            level = 'None'\n",
    "            specialization = 'None'\n",
    "            score = employee.score\n",
    "            university = employee.university\n",
    "\n",
    "        new_employee_df = pd.DataFrame(data={\n",
    "            'name': [employee.name],\n",
    "            'age': [employee.age],\n",
    "            'gender': [employee.gender],\n",
    "            'address': [employee.address],\n",
    "            'employee_type': [employee_type],\n",
    "            'level': [level],\n",
    "            'specialization': [specialization],\n",
    "            'score': [score],\n",
    "            'university': [university]\n",
    "        })\n",
    "        \n",
    "        new_df = pd.concat([df, new_employee_df])\n",
    "        new_df.to_csv(self.csv_path, index=False)\n",
    "    \n",
    "    def search(self, name=None, employee_type=None):\n",
    "        if os.path.exists(self.csv_path):\n",
    "            df = pd.read_csv(self.csv_path)\n",
    "            \n",
    "            if len(df) == 0:\n",
    "                print('No employee in the database')\n",
    "                return\n",
    "\n",
    "            if name is None and employee_type is None:\n",
    "                print('Search failed')\n",
    "                return\n",
    "\n",
    "            if name is not None:\n",
    "                print(df[df.name == name])\n",
    "\n",
    "            if employee_type is not None:\n",
    "                print(df[df.employee_type == employee_type])\n",
    "\n",
    "        else:\n",
    "            print('No employee in the database')\n",
    "            return\n",
    "\n",
    "    def delete(self, name):\n",
    "        if os.path.exists(self.csv_path):\n",
    "            df = pd.read_csv(self.csv_path)\n",
    "            df = df.drop(df[df.name == name].index)\n",
    "            df.to_csv(self.csv_path, index=False)\n",
    "        else:\n",
    "            print('No employee in the database')\n",
    "            return"
   ]
  },
  {
   "cell_type": "code",
   "execution_count": 32,
   "metadata": {},
   "outputs": [
    {
     "data": {
      "text/plain": [
       "dict_keys(['name', 'age', 'gender', 'address', 'score', 'university'])"
      ]
     },
     "execution_count": 32,
     "metadata": {},
     "output_type": "execute_result"
    }
   ],
   "source": [
    "internship_Linh.__dict__.keys()"
   ]
  },
  {
   "cell_type": "code",
   "execution_count": 33,
   "metadata": {},
   "outputs": [],
   "source": [
    "employee_manager = EmployeeManager(\n",
    "    csv_path='employee_data.csv'\n",
    ")"
   ]
  },
  {
   "attachments": {},
   "cell_type": "markdown",
   "metadata": {},
   "source": [
    "ADD TO FILE CSV"
   ]
  },
  {
   "cell_type": "code",
   "execution_count": 34,
   "metadata": {},
   "outputs": [],
   "source": [
    "internship_Linh = employee_manager.add(\n",
    "    name = 'Linh',\n",
    "    age = 18,\n",
    "    gender = 'Male',\n",
    "    address = 'NYC',\n",
    "    score = 4,\n",
    "    university = 'NYU'\n",
    ")  "
   ]
  },
  {
   "cell_type": "code",
   "execution_count": 35,
   "metadata": {},
   "outputs": [],
   "source": [
    "worker_Mai = employee_manager.add(\n",
    "    name = 'Mai', \n",
    "    age = 24, gender = 'Female', \n",
    "    address= 'Hanoi', \n",
    "    level = 3)"
   ]
  },
  {
   "cell_type": "code",
   "execution_count": 36,
   "metadata": {},
   "outputs": [],
   "source": [
    "engineer_Lan = employee_manager.add(\n",
    "    name = 'Lan',\n",
    "    age = 20,\n",
    "    gender = 'Female',\n",
    "    address = 'Toronto',\n",
    "    specialization= 'Financial analyst'\n",
    ")"
   ]
  },
  {
   "cell_type": "code",
   "execution_count": 37,
   "metadata": {},
   "outputs": [
    {
     "name": "stdout",
     "output_type": "stream",
     "text": [
      "Fail to add new employee\n"
     ]
    }
   ],
   "source": [
    "none_employee = employee_manager.add(\n",
    "    name='Lincoln',\n",
    "    age=30,\n",
    "    gender='Male',\n",
    "    address='New York'\n",
    ")"
   ]
  },
  {
   "cell_type": "code",
   "execution_count": 39,
   "metadata": {},
   "outputs": [
    {
     "name": "stdout",
     "output_type": "stream",
     "text": [
      "   name  age gender address employee_type level specialization score  \\\n",
      "0  Linh   18   Male     NYC    internship  None           None     4   \n",
      "\n",
      "  university  \n",
      "0        NYU  \n"
     ]
    }
   ],
   "source": [
    "employee_manager.search(name = 'Linh')"
   ]
  },
  {
   "cell_type": "code",
   "execution_count": 40,
   "metadata": {},
   "outputs": [
    {
     "name": "stdout",
     "output_type": "stream",
     "text": [
      "  name  age  gender  address employee_type level     specialization score  \\\n",
      "2  Lan   20  Female  Toronto      engineer  None  Financial analyst  None   \n",
      "\n",
      "  university  \n",
      "2       None  \n"
     ]
    }
   ],
   "source": [
    "employee_manager.search(employee_type= 'engineer')"
   ]
  },
  {
   "cell_type": "code",
   "execution_count": null,
   "metadata": {},
   "outputs": [],
   "source": [
    "#employee_manager.delete(\n",
    " #   name='Mai'\n",
    "#)"
   ]
  },
  {
   "cell_type": "code",
   "execution_count": 42,
   "metadata": {},
   "outputs": [
    {
     "name": "stdout",
     "output_type": "stream",
     "text": [
      "  name  age  gender address employee_type level specialization score  \\\n",
      "1  Mai   24  Female   Hanoi        worker     3           None  None   \n",
      "\n",
      "  university  \n",
      "1       None  \n"
     ]
    }
   ],
   "source": [
    "employee_manager.search(\n",
    "    employee_type='worker'\n",
    ")"
   ]
  }
 ],
 "metadata": {
  "kernelspec": {
   "display_name": "base",
   "language": "python",
   "name": "python3"
  },
  "language_info": {
   "codemirror_mode": {
    "name": "ipython",
    "version": 3
   },
   "file_extension": ".py",
   "mimetype": "text/x-python",
   "name": "python",
   "nbconvert_exporter": "python",
   "pygments_lexer": "ipython3",
   "version": "3.9.12"
  },
  "orig_nbformat": 4,
  "vscode": {
   "interpreter": {
    "hash": "49a022af45e8e1b687b72e01a6d4111b905607b6bff5f913217476735f801cfc"
   }
  }
 },
 "nbformat": 4,
 "nbformat_minor": 2
}
